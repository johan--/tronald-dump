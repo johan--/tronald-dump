{
 "cells": [
  {
   "cell_type": "code",
   "execution_count": 236,
   "metadata": {
    "collapsed": false
   },
   "outputs": [],
   "source": [
    "import pandas as pd\n",
    "import csv\n",
    "import sys\n",
    "import numpy as np\n",
    "import string\n",
    "import re"
   ]
  },
  {
   "cell_type": "markdown",
   "metadata": {},
   "source": [
    "### Read in csv"
   ]
  },
  {
   "cell_type": "code",
   "execution_count": 237,
   "metadata": {
    "collapsed": false
   },
   "outputs": [],
   "source": [
    "tweets = pd.read_csv('realDonaldTrump_tweets.csv', names=['id', 'created_at', 'text'], header = 0) \n",
    "tweets = tweets.fillna(value='N/A')"
   ]
  },
  {
   "cell_type": "code",
   "execution_count": 238,
   "metadata": {
    "collapsed": false
   },
   "outputs": [
    {
     "data": {
      "text/html": [
       "<div>\n",
       "<table border=\"1\" class=\"dataframe\">\n",
       "  <thead>\n",
       "    <tr style=\"text-align: right;\">\n",
       "      <th></th>\n",
       "      <th>id</th>\n",
       "      <th>created_at</th>\n",
       "      <th>text</th>\n",
       "    </tr>\n",
       "  </thead>\n",
       "  <tbody>\n",
       "    <tr>\n",
       "      <th>0</th>\n",
       "      <td>774299479155544064</td>\n",
       "      <td>2016-09-09 17:32:36</td>\n",
       "      <td>b'Henry McMaster, Lt. Governor of South Caroli...</td>\n",
       "    </tr>\n",
       "    <tr>\n",
       "      <th>1</th>\n",
       "      <td>774281441144344576</td>\n",
       "      <td>2016-09-09 16:20:55</td>\n",
       "      <td>b'RT @EricTrump: Join @TeamTrump on Saturday f...</td>\n",
       "    </tr>\n",
       "    <tr>\n",
       "      <th>2</th>\n",
       "      <td>774256782290128896</td>\n",
       "      <td>2016-09-09 14:42:56</td>\n",
       "      <td>b'Jeff Zucker failed @NBC and he is now failin...</td>\n",
       "    </tr>\n",
       "    <tr>\n",
       "      <th>3</th>\n",
       "      <td>774255510191239170</td>\n",
       "      <td>2016-09-09 14:37:53</td>\n",
       "      <td>b'.@CNN is unwatchable. Their news on me is fi...</td>\n",
       "    </tr>\n",
       "    <tr>\n",
       "      <th>4</th>\n",
       "      <td>774097705513517057</td>\n",
       "      <td>2016-09-09 04:10:49</td>\n",
       "      <td>b\"The documentary of me that @CNN just aired i...</td>\n",
       "    </tr>\n",
       "  </tbody>\n",
       "</table>\n",
       "</div>"
      ],
      "text/plain": [
       "                   id           created_at  \\\n",
       "0  774299479155544064  2016-09-09 17:32:36   \n",
       "1  774281441144344576  2016-09-09 16:20:55   \n",
       "2  774256782290128896  2016-09-09 14:42:56   \n",
       "3  774255510191239170  2016-09-09 14:37:53   \n",
       "4  774097705513517057  2016-09-09 04:10:49   \n",
       "\n",
       "                                                text  \n",
       "0  b'Henry McMaster, Lt. Governor of South Caroli...  \n",
       "1  b'RT @EricTrump: Join @TeamTrump on Saturday f...  \n",
       "2  b'Jeff Zucker failed @NBC and he is now failin...  \n",
       "3  b'.@CNN is unwatchable. Their news on me is fi...  \n",
       "4  b\"The documentary of me that @CNN just aired i...  "
      ]
     },
     "execution_count": 238,
     "metadata": {},
     "output_type": "execute_result"
    }
   ],
   "source": [
    "tweets.head()"
   ]
  },
  {
   "cell_type": "markdown",
   "metadata": {},
   "source": [
    "### Cleaning up file"
   ]
  },
  {
   "cell_type": "code",
   "execution_count": 239,
   "metadata": {
    "collapsed": false,
    "scrolled": true
   },
   "outputs": [
    {
     "data": {
      "text/html": [
       "<div>\n",
       "<table border=\"1\" class=\"dataframe\">\n",
       "  <thead>\n",
       "    <tr style=\"text-align: right;\">\n",
       "      <th></th>\n",
       "      <th>id</th>\n",
       "      <th>created_at</th>\n",
       "      <th>text</th>\n",
       "    </tr>\n",
       "  </thead>\n",
       "  <tbody>\n",
       "    <tr>\n",
       "      <th>0</th>\n",
       "      <td>774299479155544064</td>\n",
       "      <td>2016-09-09 17:32:36</td>\n",
       "      <td>Henry McMaster, Lt. Governor of South Carolina...</td>\n",
       "    </tr>\n",
       "    <tr>\n",
       "      <th>1</th>\n",
       "      <td>774281441144344576</td>\n",
       "      <td>2016-09-09 16:20:55</td>\n",
       "      <td>RT @EricTrump: Join @TeamTrump on Saturday for...</td>\n",
       "    </tr>\n",
       "    <tr>\n",
       "      <th>2</th>\n",
       "      <td>774256782290128896</td>\n",
       "      <td>2016-09-09 14:42:56</td>\n",
       "      <td>Jeff Zucker failed @NBC and he is now failing ...</td>\n",
       "    </tr>\n",
       "    <tr>\n",
       "      <th>3</th>\n",
       "      <td>774255510191239170</td>\n",
       "      <td>2016-09-09 14:37:53</td>\n",
       "      <td>.@CNN is unwatchable. Their news on me is fict...</td>\n",
       "    </tr>\n",
       "    <tr>\n",
       "      <th>4</th>\n",
       "      <td>774097705513517057</td>\n",
       "      <td>2016-09-09 04:10:49</td>\n",
       "      <td>The documentary of me that @CNN just aired is ...</td>\n",
       "    </tr>\n",
       "  </tbody>\n",
       "</table>\n",
       "</div>"
      ],
      "text/plain": [
       "                   id           created_at  \\\n",
       "0  774299479155544064  2016-09-09 17:32:36   \n",
       "1  774281441144344576  2016-09-09 16:20:55   \n",
       "2  774256782290128896  2016-09-09 14:42:56   \n",
       "3  774255510191239170  2016-09-09 14:37:53   \n",
       "4  774097705513517057  2016-09-09 04:10:49   \n",
       "\n",
       "                                                text  \n",
       "0  Henry McMaster, Lt. Governor of South Carolina...  \n",
       "1  RT @EricTrump: Join @TeamTrump on Saturday for...  \n",
       "2  Jeff Zucker failed @NBC and he is now failing ...  \n",
       "3  .@CNN is unwatchable. Their news on me is fict...  \n",
       "4  The documentary of me that @CNN just aired is ...  "
      ]
     },
     "execution_count": 239,
     "metadata": {},
     "output_type": "execute_result"
    }
   ],
   "source": [
    "for i, row in tweets.iterrows():\n",
    "    \n",
    "    # removing all annoying characters\n",
    "    r1 = (row['text'])[1:] # removing 1st character\n",
    "    r2 = r1.replace('\\\\n', ' ')\n",
    "    r3 = r2.replace(\"\\\\'\", \"\\'\")\n",
    "    r3 = r3.replace('&amp;', '&')\n",
    "    \n",
    "    \n",
    "    if '\\\\xe' in r3:\n",
    "        to_find = '\\\\xe'\n",
    "        start_index = r3.index(to_find)\n",
    "        r3 = r3[:start_index] + r3[start_index+12:]\n",
    "    \n",
    "    '''\n",
    "    r4 = r3.replace('\\\\xe2\\\\x80\\\\x99', \"\\'\")\n",
    "    r5 = r4.replace('\\\\xe2\\\\x80\\\\xa6', \"\\'\")\n",
    "    r6 = r5.replace('\\\\xe2\\\\x80\\\\x98', \"\\'\")\n",
    "    '''\n",
    "    \n",
    "    # removing enclosing quotations\n",
    "    while r3.startswith('\"') or r3.startswith('\\''):\n",
    "        r3 = r3[1:]\n",
    "    while r3.endswith('\"') or r3.endswith('\\''):\n",
    "        r3 = r3[:-1]\n",
    "    \n",
    "    tweets.set_value(i, 'text', r3)\n",
    "\n",
    "tweets.head()"
   ]
  },
  {
   "cell_type": "markdown",
   "metadata": {},
   "source": [
    "### Outputting clean data to csv"
   ]
  },
  {
   "cell_type": "code",
   "execution_count": null,
   "metadata": {
    "collapsed": false
   },
   "outputs": [],
   "source": [
    "tweets = tweets['text']\n",
    "tweets.to_csv('tweets.csv', header = 0)"
   ]
  }
 ],
 "metadata": {
  "kernelspec": {
   "display_name": "Python 3",
   "language": "python",
   "name": "python3"
  },
  "language_info": {
   "codemirror_mode": {
    "name": "ipython",
    "version": 3
   },
   "file_extension": ".py",
   "mimetype": "text/x-python",
   "name": "python",
   "nbconvert_exporter": "python",
   "pygments_lexer": "ipython3",
   "version": "3.5.1"
  }
 },
 "nbformat": 4,
 "nbformat_minor": 0
}
