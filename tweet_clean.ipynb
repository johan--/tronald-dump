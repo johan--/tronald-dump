{
 "cells": [
  {
   "cell_type": "code",
   "execution_count": 58,
   "metadata": {
    "collapsed": false
   },
   "outputs": [],
   "source": [
    "import pandas as pd\n",
    "import csv\n",
    "import sys\n",
    "import numpy as np\n",
    "import string\n",
    "import re"
   ]
  },
  {
   "cell_type": "markdown",
   "metadata": {},
   "source": [
    "### Read in csv"
   ]
  },
  {
   "cell_type": "code",
   "execution_count": 59,
   "metadata": {
    "collapsed": false
   },
   "outputs": [],
   "source": [
    "csv_file = 'HillaryClinton_tweets.csv'\n",
    "tweets = pd.read_csv(csv_file, names=['text'], header = 0) \n",
    "tweets = tweets.fillna(value='N/A')"
   ]
  },
  {
   "cell_type": "code",
   "execution_count": 60,
   "metadata": {
    "collapsed": false
   },
   "outputs": [
    {
     "data": {
      "text/html": [
       "<div>\n",
       "<table border=\"1\" class=\"dataframe\">\n",
       "  <thead>\n",
       "    <tr style=\"text-align: right;\">\n",
       "      <th></th>\n",
       "      <th>text</th>\n",
       "    </tr>\n",
       "  </thead>\n",
       "  <tbody>\n",
       "    <tr>\n",
       "      <th>0</th>\n",
       "      <td>b'RT @TheBriefing2016: .@ClintonFdn: 4/4 stars...</td>\n",
       "    </tr>\n",
       "    <tr>\n",
       "      <th>1</th>\n",
       "      <td>b'Remember: If he becomes president, Donald Tr...</td>\n",
       "    </tr>\n",
       "    <tr>\n",
       "      <th>2</th>\n",
       "      <td>b\"RT @Fahrenthold: .@realdonaldtrump once used...</td>\n",
       "    </tr>\n",
       "    <tr>\n",
       "      <th>3</th>\n",
       "      <td>b'RT @USNewsOpinion: If Donald Trump wins, kid...</td>\n",
       "    </tr>\n",
       "    <tr>\n",
       "      <th>4</th>\n",
       "      <td>b'Except for African Americans, Muslims, Latin...</td>\n",
       "    </tr>\n",
       "  </tbody>\n",
       "</table>\n",
       "</div>"
      ],
      "text/plain": [
       "                                                text\n",
       "0  b'RT @TheBriefing2016: .@ClintonFdn: 4/4 stars...\n",
       "1  b'Remember: If he becomes president, Donald Tr...\n",
       "2  b\"RT @Fahrenthold: .@realdonaldtrump once used...\n",
       "3  b'RT @USNewsOpinion: If Donald Trump wins, kid...\n",
       "4  b'Except for African Americans, Muslims, Latin..."
      ]
     },
     "execution_count": 60,
     "metadata": {},
     "output_type": "execute_result"
    }
   ],
   "source": [
    "tweets.head()"
   ]
  },
  {
   "cell_type": "markdown",
   "metadata": {},
   "source": [
    "### Cleaning up file"
   ]
  },
  {
   "cell_type": "code",
   "execution_count": 61,
   "metadata": {
    "collapsed": false,
    "scrolled": true
   },
   "outputs": [
    {
     "data": {
      "text/html": [
       "<div>\n",
       "<table border=\"1\" class=\"dataframe\">\n",
       "  <thead>\n",
       "    <tr style=\"text-align: right;\">\n",
       "      <th></th>\n",
       "      <th>text</th>\n",
       "    </tr>\n",
       "  </thead>\n",
       "  <tbody>\n",
       "    <tr>\n",
       "      <th>0</th>\n",
       "      <td>RT @TheBriefing2016: .@ClintonFdn: 4/4 stars f...</td>\n",
       "    </tr>\n",
       "    <tr>\n",
       "      <th>1</th>\n",
       "      <td>Remember: If he becomes president, Donald Trum...</td>\n",
       "    </tr>\n",
       "    <tr>\n",
       "      <th>2</th>\n",
       "      <td>RT @Fahrenthold: .@realdonaldtrump once used $...</td>\n",
       "    </tr>\n",
       "    <tr>\n",
       "      <th>3</th>\n",
       "      <td>RT @USNewsOpinion: If Donald Trump wins, kids ...</td>\n",
       "    </tr>\n",
       "    <tr>\n",
       "      <th>4</th>\n",
       "      <td>Except for African Americans, Muslims, Latinos...</td>\n",
       "    </tr>\n",
       "  </tbody>\n",
       "</table>\n",
       "</div>"
      ],
      "text/plain": [
       "                                                text\n",
       "0  RT @TheBriefing2016: .@ClintonFdn: 4/4 stars f...\n",
       "1  Remember: If he becomes president, Donald Trum...\n",
       "2  RT @Fahrenthold: .@realdonaldtrump once used $...\n",
       "3  RT @USNewsOpinion: If Donald Trump wins, kids ...\n",
       "4  Except for African Americans, Muslims, Latinos..."
      ]
     },
     "execution_count": 61,
     "metadata": {},
     "output_type": "execute_result"
    }
   ],
   "source": [
    "for i, row in tweets.iterrows():\n",
    "    \n",
    "    # removing all annoying characters\n",
    "    r1 = (row['text'])[1:] # removing 1st character\n",
    "    r2 = r1.replace('\\\\n', ' ')\n",
    "    r3 = r2.replace(\"\\\\'\", \"\\'\")\n",
    "    r3 = r3.replace('&amp;', '&')\n",
    "    \n",
    "    # removing links\n",
    "    if 'https' in r3:\n",
    "        end_at = r3.index('https')\n",
    "        r3 = r3[:end_at]\n",
    "    \n",
    "    # removing special characters\n",
    "    while '\\\\x' in r3:\n",
    "        to_find = '\\\\x'\n",
    "        start_index = r3.index(to_find)\n",
    "        r3 = r3[:start_index] + r3[start_index+13:]   \n",
    "    \n",
    "    # removing enclosing quotations\n",
    "    while r3.startswith('\"') or r3.startswith('\\''):\n",
    "        r3 = r3[1:]\n",
    "    while r3.endswith('\"') or r3.endswith('\\''):\n",
    "        r3 = r3[:-1]\n",
    "    \n",
    "    tweets.set_value(i, 'text', r3)\n",
    "\n",
    "tweets.head()"
   ]
  },
  {
   "cell_type": "markdown",
   "metadata": {},
   "source": [
    "### Outputting clean data to csv"
   ]
  },
  {
   "cell_type": "code",
   "execution_count": 62,
   "metadata": {
    "collapsed": false
   },
   "outputs": [],
   "source": [
    "tweets = tweets['text']\n",
    "output_csv = 'hillary_tweets.csv'\n",
    "tweets.to_csv(output_csv, header = 0)"
   ]
  }
 ],
 "metadata": {
  "kernelspec": {
   "display_name": "Python 3",
   "language": "python",
   "name": "python3"
  },
  "language_info": {
   "codemirror_mode": {
    "name": "ipython",
    "version": 3
   },
   "file_extension": ".py",
   "mimetype": "text/x-python",
   "name": "python",
   "nbconvert_exporter": "python",
   "pygments_lexer": "ipython3",
   "version": "3.5.1"
  }
 },
 "nbformat": 4,
 "nbformat_minor": 0
}
